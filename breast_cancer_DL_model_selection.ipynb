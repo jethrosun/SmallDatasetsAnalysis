{
 "cells": [
  {
   "cell_type": "markdown",
   "metadata": {},
   "source": [
    "<b>Breast Cancer Wisconsin (Diagnostic) Data Set</b> \n",
    "(reference to UCI Machine Learning Repository <a href=\"http://archive.ics.uci.edu/ml/datasets/Breast+Cancer+Wisconsin+%28Diagnostic%29\">description</a>)"
   ]
  },
  {
   "cell_type": "code",
   "execution_count": 1,
   "metadata": {},
   "outputs": [],
   "source": [
    "# References\n",
    "# Compare results https://plot.ly/~s143717/87.embed\n",
    "# https://github.com/kzky/python-online-machine-learning-library/tree/master/evaluation/uci_small_dataset\n",
    "# https://github.com/tmadl/sklearn-random-rotation-ensembles\n",
    "# https://books.google.com/books?id=dltICgAAQBAJ&pg=PA29&lpg=PA29&dq=ionosphere+sklearn&source=bl&ots=MqQk59GzAh&sig=77iP6Lo3YaGBqPO1pAdTiZH7cLY&hl=en&sa=X&ved=0ahUKEwjF7MymmpfXAhWBOCYKHak7DtoQ6AEIRDAE#v=onepage&q=ionosphere%20sklearn&f=false"
   ]
  },
  {
   "cell_type": "code",
   "execution_count": 2,
   "metadata": {},
   "outputs": [],
   "source": [
    "# coding: utf-8\n",
    "import multiprocessing \n",
    "multiprocessing.set_start_method('spawn')"
   ]
  },
  {
   "cell_type": "code",
   "execution_count": 3,
   "metadata": {},
   "outputs": [
    {
     "name": "stdout",
     "output_type": "stream",
     "text": [
      "tb 2018-09-13 \n",
      "\n",
      "CPython 3.6.4\n",
      "IPython 6.2.1\n",
      "\n",
      "sys 3.6.4 |Anaconda custom (64-bit)| (default, Jan 16 2018, 12:04:33) \n",
      "[GCC 4.2.1 Compatible Clang 4.0.1 (tags/RELEASE_401/final)]\n",
      "numpy 1.14.2\n",
      "pandas 0.22.0\n",
      "sklearn 0.19.2\n",
      "torch 0.4.0a0+9692519\n",
      "IPython 6.2.1\n",
      "\n",
      "compiler   : GCC 4.2.1 Compatible Clang 4.0.1 (tags/RELEASE_401/final)\n",
      "system     : Darwin\n",
      "release    : 17.5.0\n",
      "machine    : x86_64\n",
      "processor  : i386\n",
      "CPU cores  : 24\n",
      "interpreter: 64bit\n",
      "\n",
      "GPU Name: TITAN Xp\n",
      "GPU Memory: 12.0GB\n",
      "CUDA Version: (9, 1, 0)\n",
      "GPU Free/Total Memory: 85%\n"
     ]
    }
   ],
   "source": [
    "%matplotlib inline\n",
    "import matplotlib.pyplot as plt\n",
    "from matplotlib.pylab import rcParams\n",
    "rcParams['figure.figsize'] = 14, 8\n",
    "\n",
    "from IPython.display import display\n",
    "import pickle\n",
    "\n",
    "import numpy as np\n",
    "np.set_printoptions(precision=4, threshold=10000, linewidth=100, edgeitems=999, suppress=True)\n",
    "\n",
    "import pandas as pd\n",
    "pd.set_option('display.max_columns', 30)\n",
    "pd.set_option('display.width', 200)\n",
    "pd.set_option('display.max_rows', 500)\n",
    "pd.set_option('display.max_columns', 500)\n",
    "pd.set_option('display.width', 1000)\n",
    "pd.set_option('precision', 6)\n",
    "\n",
    "from collections import Counter\n",
    "\n",
    "import seaborn as sns\n",
    "sns.set()\n",
    "\n",
    "from tqdm import tqdm_notebook, tqdm\n",
    "from sklearn.preprocessing import MinMaxScaler, StandardScaler, RobustScaler, Normalizer\n",
    "from sklearn.preprocessing import LabelEncoder\n",
    "from imblearn.over_sampling import RandomOverSampler, SMOTE\n",
    "from sklearn.model_selection import ShuffleSplit, KFold\n",
    "from sklearn.model_selection import GridSearchCV, cross_val_score, KFold, RandomizedSearchCV\n",
    "from sklearn.model_selection import train_test_split\n",
    "from sklearn.ensemble import (ExtraTreesClassifier, RandomForestClassifier, \n",
    "                              AdaBoostClassifier, GradientBoostingClassifier)\n",
    "from sklearn.tree import DecisionTreeClassifier\n",
    "from sklearn.linear_model import LogisticRegression\n",
    "from sklearn.svm import SVC\n",
    "from sklearn import metrics\n",
    "from sklearn.model_selection import learning_curve\n",
    "from sklearn.model_selection import cross_val_score\n",
    "from sklearn.model_selection import cross_validate\n",
    "from sklearn.model_selection import ShuffleSplit, KFold\n",
    "from sklearn.model_selection import GridSearchCV, cross_val_score, KFold, RandomizedSearchCV\n",
    "from sklearn.model_selection import train_test_split\n",
    "from sklearn.model_selection import validation_curve\n",
    "from imblearn.pipeline import Pipeline\n",
    "\n",
    "import torch\n",
    "from torch import nn\n",
    "\n",
    "from lib.utils import *\n",
    "\n",
    "from lib.classifier import Classifier, torch_weight_init, Stopping, OutlierSampler, exp_decay, to_var, PytorchLogger\n",
    "\n",
    "from lib.model import MLP, MLP_vanilla\n",
    "\n",
    "%load_ext watermark\n",
    "%watermark -a \"tb\" -d -v -m -p sys,numpy,pandas,sklearn,torch,IPython\n",
    "gpu_stat()"
   ]
  },
  {
   "cell_type": "code",
   "execution_count": 4,
   "metadata": {},
   "outputs": [],
   "source": [
    "# Hyperparameters\n",
    "HP = HYPERPARAMETERS({\n",
    "    \"GPU\"                 : True ,\n",
    "    \"SEED\"                : 0\n",
    "})"
   ]
  },
  {
   "cell_type": "code",
   "execution_count": 5,
   "metadata": {},
   "outputs": [],
   "source": [
    "# if not HP.SEED:\n",
    "#     torch.cuda.is_available = lambda : False\n",
    "\n",
    "# Seed random generators for repro \n",
    "np.random.seed(HP.SEED)  \n",
    "# torch.manual_seed(HP.SEED);\n",
    "# if torch.cuda.is_available():\n",
    "#     torch.cuda.manual_seed(HP.SEED)"
   ]
  },
  {
   "cell_type": "code",
   "execution_count": 6,
   "metadata": {},
   "outputs": [
    {
     "name": "stdout",
     "output_type": "stream",
     "text": [
      "\n",
      "Dataset statistics:\n",
      "===================\n",
      "number of features:       30\n",
      "number of classes:        2\n",
      "data type:                float32\n",
      "number of train samples:  381 (pos=236, neg=145, size=0MB)\n",
      "number of test samples:   188 (pos=121, neg=67, size=0MB)\n",
      "labels                    ['malignant' 'benign']\n"
     ]
    }
   ],
   "source": [
    "from sklearn.datasets import load_breast_cancer\n",
    "\n",
    "dataset = load_breast_cancer()\n",
    "feature_names = dataset.feature_names\n",
    "target_names = dataset.target_names\n",
    "data = pd.DataFrame(np.c_[dataset['target'], dataset['data']], columns= np.append(['diagnosis'], feature_names ))\n",
    "\n",
    "X = np.float32(data.drop('diagnosis', axis=1).values)\n",
    "y = np.int64(data['diagnosis'].values)   # conversion to int64 for pytorch\n",
    "\n",
    "X_train, X_test, y_train, y_test = train_test_split(X, y, test_size=0.33, shuffle=True, random_state=HP.SEED)\n",
    "\n",
    "dataset_statistics(X_train, y_train, X_test, y_test, target_names)"
   ]
  },
  {
   "cell_type": "code",
   "execution_count": 7,
   "metadata": {},
   "outputs": [],
   "source": [
    "params = {\n",
    "    'module'                       : MLP,\n",
    "    'module_H'                     : 12,\n",
    "    'module_D_in'                  : X_train.shape[1] ,\n",
    "    'module_D_out'                 : 2 ,\n",
    "\n",
    "    'module_initialize'            : torch_weight_init ,\n",
    "\n",
    "    'max_epochs'                   : 1000,\n",
    "    'batch_size'                   : 100 ,\n",
    "    'batch_shuffle'                : True,\n",
    "\n",
    "    'optimizer'                    : torch.optim.SGD ,\n",
    "    'optimizer_lr'                 : 0.5 ,\n",
    "    'optimizer_momentum'           : 0.9 ,\n",
    "    'optimizer_weight_decay'       : 5e-4 ,\n",
    "    'optimizer_nesterov'           : True ,\n",
    "\n",
    "    'criterion'                    : nn.CrossEntropyLoss ,\n",
    "    'criterion_size_average'       : True ,\n",
    "\n",
    "    'scheduler'                    : torch.optim.lr_scheduler.LambdaLR ,\n",
    "    'scheduler_lr_lambda'          : exp_decay ,\n",
    "\n",
    "    'stopping'                     : Stopping ,\n",
    "    'stopping_patience'            : 120 ,\n",
    "\n",
    "    'scoring'                      : metrics.f1_score ,\n",
    "\n",
    "    'random_state'                 : 10\n",
    "}"
   ]
  },
  {
   "cell_type": "code",
   "execution_count": 8,
   "metadata": {},
   "outputs": [],
   "source": [
    "pipeline = Pipeline(steps=[\n",
    "                ('scaler',     MinMaxScaler(copy=True)),\n",
    "                ('outlier',    OutlierSampler(8.5)),\n",
    "                ('sampler',    RandomOverSampler(random_state=HP.SEED)),\n",
    "                ('classifier', Classifier(**params))\n",
    "                ])"
   ]
  },
  {
   "cell_type": "code",
   "execution_count": 9,
   "metadata": {},
   "outputs": [],
   "source": [
    "param_grid = {\n",
    "    'classifier__module'                       : [MLP, MLP_vanilla],\n",
    "    'classifier__module_H'                     : [ 15, 20, 25] , \n",
    "    'classifier__module_D_in'                  : [X_train.shape[1]] ,\n",
    "    'classifier__module_D_out'                 : [2] ,\n",
    "\n",
    "    'classifier__module_initialize'            : [torch_weight_init] ,\n",
    "\n",
    "    'classifier__max_epochs'                   : [1000],\n",
    "    'classifier__batch_size'                   : [80, 100, 120] ,\n",
    "    'classifier__batch_shuffle'                : [True],\n",
    "\n",
    "    'classifier__optimizer'                    : [torch.optim.SGD] ,\n",
    "    'classifier__optimizer_lr'                 : [0.5, 0.1, 0.05] ,\n",
    "    'classifier__optimizer_momentum'           : [0.9] ,\n",
    "    'classifier__optimizer_weight_decay'       : [5e-4] ,\n",
    "    'classifier__optimizer_nesterov'           : [True] ,\n",
    "\n",
    "    'classifier__criterion'                    : [nn.CrossEntropyLoss] ,\n",
    "    'classifier__criterion_size_average'       : [True] ,\n",
    "\n",
    "    'classifier__scheduler'                    : [torch.optim.lr_scheduler.LambdaLR] ,\n",
    "    'classifier__scheduler_lr_lambda'          : [exp_decay] ,\n",
    "\n",
    "    'classifier__stopping'                     : [Stopping] ,\n",
    "    'classifier__stopping_patience'            : [100, 120, 140] ,\n",
    "\n",
    "    'classifier__scoring'                      : [metrics.f1_score] ,\n",
    "\n",
    "    'classifier__random_state'                 : [10]\n",
    "}\n",
    "\n",
    "scoring = None"
   ]
  },
  {
   "cell_type": "code",
   "execution_count": 10,
   "metadata": {},
   "outputs": [
    {
     "name": "stderr",
     "output_type": "stream",
     "text": [
      "100%|██████████| 3/3 [20:55<00:00, 418.64s/it]\n"
     ]
    }
   ],
   "source": [
    "NUM_TRIALS = 3\n",
    "\n",
    "trial_scores_columns = ['best_score', 'best_parameters', 'estimator',\n",
    "                        'trial', 'score_mean', 'score_std', 'score_min', 'score_max']\n",
    "trial_scores = pd.DataFrame(columns=trial_scores_columns)\n",
    "for trial in tqdm(range(NUM_TRIALS)):\n",
    "    \n",
    "    cv = KFold(n_splits=4, shuffle=True, random_state=trial)\n",
    "    gscv = GridSearchCV(estimator=pipeline, param_grid=param_grid, cv=cv, scoring=scoring, \n",
    "                        verbose=0, n_jobs=4)\n",
    "    gscv.fit(X_train, y_train)\n",
    "\n",
    "    best_estimator = pickle.dumps(gscv.best_estimator_)\n",
    "    best_score = gscv.best_score_\n",
    "    best_parameters = gscv.best_params_\n",
    "\n",
    "    cv = KFold(n_splits=10, shuffle=True, random_state=trial).split(X_train)\n",
    "    scores = cross_validate(gscv.best_estimator_, X_train, y_train, \n",
    "                            cv=cv, return_train_score=True,  scoring=scoring, \n",
    "                            verbose=0, n_jobs=6)['test_score']\n",
    "    \n",
    "    trial_scores = trial_scores.append(pd.DataFrame([[\n",
    "        best_score, best_parameters, best_estimator, \n",
    "        trial, np.mean(scores), np.std(scores), np.min(scores), np.max(scores)\n",
    "    ]], columns=trial_scores_columns))"
   ]
  },
  {
   "cell_type": "code",
   "execution_count": 11,
   "metadata": {},
   "outputs": [
    {
     "data": {
      "text/html": [
       "<div>\n",
       "<style scoped>\n",
       "    .dataframe tbody tr th:only-of-type {\n",
       "        vertical-align: middle;\n",
       "    }\n",
       "\n",
       "    .dataframe tbody tr th {\n",
       "        vertical-align: top;\n",
       "    }\n",
       "\n",
       "    .dataframe thead th {\n",
       "        text-align: right;\n",
       "    }\n",
       "</style>\n",
       "<table border=\"1\" class=\"dataframe\">\n",
       "  <thead>\n",
       "    <tr style=\"text-align: right;\">\n",
       "      <th></th>\n",
       "      <th>best_score</th>\n",
       "      <th>best_parameters</th>\n",
       "      <th>estimator</th>\n",
       "      <th>trial</th>\n",
       "      <th>score_mean</th>\n",
       "      <th>score_std</th>\n",
       "      <th>score_min</th>\n",
       "      <th>score_max</th>\n",
       "    </tr>\n",
       "  </thead>\n",
       "  <tbody>\n",
       "    <tr>\n",
       "      <th>0</th>\n",
       "      <td>0.990241</td>\n",
       "      <td>{'classifier__batch_shuffle': True, 'classifie...</td>\n",
       "      <td>b'\\x80\\x03cimblearn.pipeline\\nPipeline\\nq\\x00)...</td>\n",
       "      <td>1</td>\n",
       "      <td>0.981016</td>\n",
       "      <td>0.014391</td>\n",
       "      <td>0.956522</td>\n",
       "      <td>1.0</td>\n",
       "    </tr>\n",
       "    <tr>\n",
       "      <th>0</th>\n",
       "      <td>0.987639</td>\n",
       "      <td>{'classifier__batch_shuffle': True, 'classifie...</td>\n",
       "      <td>b'\\x80\\x03cimblearn.pipeline\\nPipeline\\nq\\x00)...</td>\n",
       "      <td>0</td>\n",
       "      <td>0.973632</td>\n",
       "      <td>0.015298</td>\n",
       "      <td>0.941176</td>\n",
       "      <td>1.0</td>\n",
       "    </tr>\n",
       "    <tr>\n",
       "      <th>0</th>\n",
       "      <td>0.982664</td>\n",
       "      <td>{'classifier__batch_shuffle': True, 'classifie...</td>\n",
       "      <td>b'\\x80\\x03cimblearn.pipeline\\nPipeline\\nq\\x00)...</td>\n",
       "      <td>2</td>\n",
       "      <td>0.974673</td>\n",
       "      <td>0.012828</td>\n",
       "      <td>0.954545</td>\n",
       "      <td>1.0</td>\n",
       "    </tr>\n",
       "  </tbody>\n",
       "</table>\n",
       "</div>"
      ],
      "text/plain": [
       "   best_score                                    best_parameters                                          estimator trial  score_mean  score_std  score_min  score_max\n",
       "0    0.990241  {'classifier__batch_shuffle': True, 'classifie...  b'\\x80\\x03cimblearn.pipeline\\nPipeline\\nq\\x00)...     1    0.981016   0.014391   0.956522        1.0\n",
       "0    0.987639  {'classifier__batch_shuffle': True, 'classifie...  b'\\x80\\x03cimblearn.pipeline\\nPipeline\\nq\\x00)...     0    0.973632   0.015298   0.941176        1.0\n",
       "0    0.982664  {'classifier__batch_shuffle': True, 'classifie...  b'\\x80\\x03cimblearn.pipeline\\nPipeline\\nq\\x00)...     2    0.974673   0.012828   0.954545        1.0"
      ]
     },
     "execution_count": 11,
     "metadata": {},
     "output_type": "execute_result"
    }
   ],
   "source": [
    "trial_scores.sort_values('best_score', ascending=False).head()"
   ]
  },
  {
   "cell_type": "code",
   "execution_count": 12,
   "metadata": {},
   "outputs": [
    {
     "data": {
      "text/plain": [
       "(best_score                                                       0.990241\n",
       " best_parameters         {'classifier__batch_shuffle': True, 'classifie...\n",
       " estimator               b'\\x80\\x03cimblearn.pipeline\\nPipeline\\nq\\x00)...\n",
       " trial                                                                   1\n",
       " score_mean                                                       0.981016\n",
       " score_std                                                       0.0143907\n",
       " score_min                                                        0.956522\n",
       " score_max                                                               1\n",
       " best_parameters_hash                                 -5928813628130602964\n",
       " Name: 0, dtype: object,\n",
       " {'classifier__batch_shuffle': True,\n",
       "  'classifier__batch_size': 80,\n",
       "  'classifier__criterion': torch.nn.modules.loss.CrossEntropyLoss,\n",
       "  'classifier__criterion_size_average': True,\n",
       "  'classifier__max_epochs': 1000,\n",
       "  'classifier__module': lib.model.MLP,\n",
       "  'classifier__module_D_in': 30,\n",
       "  'classifier__module_D_out': 2,\n",
       "  'classifier__module_H': 25,\n",
       "  'classifier__module_initialize': <function lib.classifier.utilities.torch_weight_init>,\n",
       "  'classifier__optimizer': torch.optim.sgd.SGD,\n",
       "  'classifier__optimizer_lr': 0.5,\n",
       "  'classifier__optimizer_momentum': 0.9,\n",
       "  'classifier__optimizer_nesterov': True,\n",
       "  'classifier__optimizer_weight_decay': 0.0005,\n",
       "  'classifier__random_state': 10,\n",
       "  'classifier__scheduler': torch.optim.lr_scheduler.LambdaLR,\n",
       "  'classifier__scheduler_lr_lambda': <function lib.classifier.utilities.exp_decay>,\n",
       "  'classifier__scoring': <function sklearn.metrics.classification.f1_score>,\n",
       "  'classifier__stopping': lib.classifier.stopping.Stopping,\n",
       "  'classifier__stopping_patience': 100})"
      ]
     },
     "execution_count": 12,
     "metadata": {},
     "output_type": "execute_result"
    }
   ],
   "source": [
    "trial_scores['best_parameters_hash'] = trial_scores['best_parameters'].apply(lambda x : hash(str(x)))\n",
    "trial_selected = trial_scores.groupby(['best_parameters_hash'])['score_mean'].agg(['count']).sort_values('count', ascending=False).iloc[0]\n",
    "df_tmp = trial_scores[(trial_scores['best_parameters_hash'] == trial_selected.name)]\n",
    "trial_clf = df_tmp[(df_tmp['best_parameters_hash'] == trial_selected.name)].iloc[0]\n",
    "trial_clf, trial_clf['best_parameters']"
   ]
  },
  {
   "cell_type": "code",
   "execution_count": 13,
   "metadata": {},
   "outputs": [
    {
     "data": {
      "text/html": [
       "<div>\n",
       "<style scoped>\n",
       "    .dataframe tbody tr th:only-of-type {\n",
       "        vertical-align: middle;\n",
       "    }\n",
       "\n",
       "    .dataframe tbody tr th {\n",
       "        vertical-align: top;\n",
       "    }\n",
       "\n",
       "    .dataframe thead th {\n",
       "        text-align: right;\n",
       "    }\n",
       "</style>\n",
       "<table border=\"1\" class=\"dataframe\">\n",
       "  <thead>\n",
       "    <tr style=\"text-align: right;\">\n",
       "      <th></th>\n",
       "      <th>count</th>\n",
       "      <th>mean</th>\n",
       "      <th>std</th>\n",
       "      <th>min</th>\n",
       "      <th>max</th>\n",
       "    </tr>\n",
       "    <tr>\n",
       "      <th>best_parameters_hash</th>\n",
       "      <th></th>\n",
       "      <th></th>\n",
       "      <th></th>\n",
       "      <th></th>\n",
       "      <th></th>\n",
       "    </tr>\n",
       "  </thead>\n",
       "  <tbody>\n",
       "    <tr>\n",
       "      <th>-5928813628130602964</th>\n",
       "      <td>1</td>\n",
       "      <td>0.981016</td>\n",
       "      <td>NaN</td>\n",
       "      <td>0.981016</td>\n",
       "      <td>0.981016</td>\n",
       "    </tr>\n",
       "    <tr>\n",
       "      <th>-994665197800371410</th>\n",
       "      <td>1</td>\n",
       "      <td>0.974673</td>\n",
       "      <td>NaN</td>\n",
       "      <td>0.974673</td>\n",
       "      <td>0.974673</td>\n",
       "    </tr>\n",
       "    <tr>\n",
       "      <th>-1561482673399617406</th>\n",
       "      <td>1</td>\n",
       "      <td>0.973632</td>\n",
       "      <td>NaN</td>\n",
       "      <td>0.973632</td>\n",
       "      <td>0.973632</td>\n",
       "    </tr>\n",
       "  </tbody>\n",
       "</table>\n",
       "</div>"
      ],
      "text/plain": [
       "                      count      mean  std       min       max\n",
       "best_parameters_hash                                          \n",
       "-5928813628130602964      1  0.981016  NaN  0.981016  0.981016\n",
       "-994665197800371410       1  0.974673  NaN  0.974673  0.974673\n",
       "-1561482673399617406      1  0.973632  NaN  0.973632  0.973632"
      ]
     },
     "execution_count": 13,
     "metadata": {},
     "output_type": "execute_result"
    }
   ],
   "source": [
    "trial_scores.groupby(['best_parameters_hash'])['score_mean'].agg(['count', 'mean', 'std', 'min', 'max']).sort_values('mean', ascending=False)"
   ]
  },
  {
   "cell_type": "code",
   "execution_count": 14,
   "metadata": {},
   "outputs": [
    {
     "data": {
      "text/plain": [
       "MinMaxScaler(copy=True, feature_range=(0, 1))"
      ]
     },
     "metadata": {},
     "output_type": "display_data"
    },
    {
     "data": {
      "text/plain": [
       "OutlierSampler(memory=None, threshold=8.5, verbose=0)"
      ]
     },
     "metadata": {},
     "output_type": "display_data"
    },
    {
     "data": {
      "text/plain": [
       "RandomOverSampler(random_state=0, ratio='auto')"
      ]
     },
     "metadata": {},
     "output_type": "display_data"
    },
    {
     "data": {
      "text/plain": [
       "Classifier(batch_shuffle=True, batch_size=80,\n",
       "      criterion=<class 'torch.nn.modules.loss.CrossEntropyLoss'>,\n",
       "      criterion_size_average=True, max_epochs=1000,\n",
       "      module=<class 'lib.model.MLP'>, module_D_in=30, module_D_out=2,\n",
       "      module_H=25, module_dropout=0.5,\n",
       "      module_initialize=<function torch_weight_init at 0x1a9e4140d0>,\n",
       "      optimizer=<class 'torch.optim.sgd.SGD'>, optimizer_lr=0.5,\n",
       "      optimizer_momentum=0.9, optimizer_nesterov=True,\n",
       "      optimizer_weight_decay=0.0005, progress_bar=None, random_state=10,\n",
       "      scheduler=<class 'torch.optim.lr_scheduler.LambdaLR'>,\n",
       "      scheduler_lr_lambda=<function exp_decay at 0x1a9e40bd90>,\n",
       "      scoring=<function f1_score at 0x1a0aba27b8>,\n",
       "      stopping=<class 'lib.classifier.stopping.Stopping'>,\n",
       "      stopping_patience=100, validation_ratio=0.2, validation_shuffle=True,\n",
       "      verbose=0)"
      ]
     },
     "metadata": {},
     "output_type": "display_data"
    }
   ],
   "source": [
    "pipeline = pickle.loads(trial_clf['estimator'])\n",
    "\n",
    "for pip_name in pipeline.named_steps:\n",
    "    display(pipeline.named_steps[pip_name])"
   ]
  },
  {
   "cell_type": "code",
   "execution_count": 15,
   "metadata": {},
   "outputs": [
    {
     "name": "stdout",
     "output_type": "stream",
     "text": [
      "Confusion Matrix\n",
      " [[ 63   4]\n",
      " [  6 115]]\n",
      "Accuracy  0.9468085106382979\n",
      "Recall    0.9504132231404959\n",
      "Precision 0.9663865546218487\n",
      "F1        0.9583333333333334\n",
      "ROC AUC   0.9453558653015913\n"
     ]
    }
   ],
   "source": [
    "y_pred = pipeline.predict(X_test)\n",
    "y_prob = pipeline.predict_proba(X_test)\n",
    "\n",
    "print('Confusion Matrix\\n', metrics.confusion_matrix(y_test, y_pred))  # Confusion Matrix\n",
    "print('Accuracy ', metrics.accuracy_score(y_test, y_pred))            # Accuracy (TP + TN) / float(TP + TN + FP + FN)\n",
    "print('Recall   ', metrics.recall_score(y_test, y_pred))                # Recall (Sensitivity)   TP / float(FN + TP)\n",
    "print('Precision', metrics.precision_score(y_test, y_pred))     \n",
    "print('F1       ', metrics.f1_score(y_test, y_pred))     \n",
    "print('ROC AUC  ', metrics.roc_auc_score(y_test, y_pred))     "
   ]
  },
  {
   "cell_type": "code",
   "execution_count": 16,
   "metadata": {},
   "outputs": [
    {
     "name": "stdout",
     "output_type": "stream",
     "text": [
      "Test accuracy score: 0.9576023391812866 0.03947368421052632\n"
     ]
    }
   ],
   "source": [
    "#  Cross-validate score on test set\n",
    "cv = KFold(n_splits=10, shuffle=True, random_state=HP.SEED).split(X_test)\n",
    "scores = cross_val_score(pipeline, X_test, y_test, cv=cv, scoring='accuracy', \n",
    "                         verbose=0, n_jobs=4)\n",
    "\n",
    "print(\"Test accuracy score:\", np.mean(scores), np.std(scores))"
   ]
  },
  {
   "cell_type": "code",
   "execution_count": 17,
   "metadata": {},
   "outputs": [
    {
     "data": {
      "image/png": "[encoded data removed]",
      "text/plain": [
       "<matplotlib.figure.Figure at 0x1abd516cc0>"
      ]
     },
     "metadata": {},
     "output_type": "display_data"
    }
   ],
   "source": [
    "clf = pipeline.named_steps['classifier']\n",
    "plot_loss_curve(clf.loss_train_, clf.score_train_,  clf.loss_valid_, clf.score_valid_)"
   ]
  },
  {
   "cell_type": "code",
   "execution_count": 18,
   "metadata": {},
   "outputs": [
    {
     "data": {
      "image/png": "[encoded data removed]",
      "text/plain": [
       "<matplotlib.figure.Figure at 0x1ac88fbda0>"
      ]
     },
     "metadata": {},
     "output_type": "display_data"
    }
   ],
   "source": [
    "try:\n",
    "    cv = KFold(n_splits=10, shuffle=True, random_state=HP.SEED).split(X_train)\n",
    "    plot_learning_curve(pipeline, 'Learning Curves', X_train, y_train, cv=cv, shuffle=True, \n",
    "                        n_jobs=4, random_state=HP.SEED)\n",
    "except:\n",
    "    pass"
   ]
  },
  {
   "cell_type": "code",
   "execution_count": null,
   "metadata": {},
   "outputs": [],
   "source": []
  }
 ],
 "metadata": {
  "kernelspec": {
   "display_name": "Python 3",
   "language": "python",
   "name": "python3"
  },
  "language_info": {
   "codemirror_mode": {
    "name": "ipython",
    "version": 3
   },
   "file_extension": ".py",
   "mimetype": "text/x-python",
   "name": "python",
   "nbconvert_exporter": "python",
   "pygments_lexer": "ipython3",
   "version": "3.6.4"
  }
 },
 "nbformat": 4,
 "nbformat_minor": 2
}
