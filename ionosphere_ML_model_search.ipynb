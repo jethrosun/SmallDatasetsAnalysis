{
 "cells": [
  {
   "cell_type": "markdown",
   "metadata": {},
   "source": [
    "<b>Ionosphere Data Set</b> \n",
    "(reference to UCI Machine Learning Repository <a href=\"https://archive.ics.uci.edu/ml/datasets/ionosphere\">description</a>)"
   ]
  },
  {
   "cell_type": "code",
   "execution_count": 1,
   "metadata": {},
   "outputs": [],
   "source": [
    "%matplotlib inline\n",
    "import matplotlib.pyplot as plt\n",
    "from IPython.display import display\n",
    "\n",
    "import numpy as np\n",
    "import pandas as pd\n",
    "from collections import Counter\n",
    "import os, pickle    \n",
    "\n",
    "from tqdm import tqdm\n",
    "\n",
    "from sklearn.preprocessing import MinMaxScaler, StandardScaler, RobustScaler, Normalizer\n",
    "from sklearn.preprocessing import LabelEncoder\n",
    "from imblearn.over_sampling import RandomOverSampler, SMOTE\n",
    "from sklearn.ensemble import (ExtraTreesClassifier, RandomForestClassifier, \n",
    "                              AdaBoostClassifier, GradientBoostingClassifier)\n",
    "from sklearn.tree import DecisionTreeClassifier\n",
    "from sklearn.linear_model import LogisticRegression\n",
    "from sklearn.svm import SVC\n",
    "from sklearn import metrics\n",
    "from sklearn.model_selection import learning_curve\n",
    "from sklearn.model_selection import cross_val_score\n",
    "from sklearn.model_selection import cross_validate\n",
    "from sklearn.model_selection import ShuffleSplit, KFold\n",
    "from sklearn.model_selection import GridSearchCV, cross_val_score, KFold, RandomizedSearchCV\n",
    "from sklearn.model_selection import train_test_split\n",
    "from imblearn.pipeline import Pipeline\n",
    "from sklearn.model_selection import validation_curve\n",
    "from imblearn.pipeline import Pipeline\n",
    "\n",
    "from lib.utils import *\n",
    "\n",
    "import warnings\n",
    "warnings.simplefilter(\"ignore\")"
   ]
  },
  {
   "cell_type": "code",
   "execution_count": 2,
   "metadata": {},
   "outputs": [],
   "source": [
    "# Hyperparameters\n",
    "HP = HYPERPARAMETERS({\n",
    "    \"GPU\"                 : True ,\n",
    "    \"SEED\"                : 0\n",
    "})"
   ]
  },
  {
   "cell_type": "code",
   "execution_count": 3,
   "metadata": {},
   "outputs": [],
   "source": [
    "# Seed random generators for repro \n",
    "np.random.seed(HP.SEED)  "
   ]
  },
  {
   "cell_type": "code",
   "execution_count": 4,
   "metadata": {},
   "outputs": [
    {
     "data": {
      "text/plain": [
       "([0,\n",
       "  1,\n",
       "  2,\n",
       "  3,\n",
       "  4,\n",
       "  5,\n",
       "  6,\n",
       "  7,\n",
       "  8,\n",
       "  9,\n",
       "  10,\n",
       "  11,\n",
       "  12,\n",
       "  13,\n",
       "  14,\n",
       "  15,\n",
       "  16,\n",
       "  17,\n",
       "  18,\n",
       "  19,\n",
       "  20,\n",
       "  21,\n",
       "  22,\n",
       "  23,\n",
       "  24,\n",
       "  25,\n",
       "  26,\n",
       "  27,\n",
       "  28,\n",
       "  29,\n",
       "  30,\n",
       "  31,\n",
       "  32,\n",
       "  33],\n",
       " ['bad', 'good'])"
      ]
     },
     "execution_count": 4,
     "metadata": {},
     "output_type": "execute_result"
    }
   ],
   "source": [
    "# load dataset https://archive.ics.uci.edu/ml/datasets/ionosphere\n",
    "data = pd.read_csv(\"data/ionosphere.csv\", header=None)\n",
    "col_names = list(data.columns)\n",
    "feature_names = list(col_names[:-1])\n",
    "target_names = ['bad', 'good']\n",
    "\n",
    "cols = list(data)\n",
    "cols.insert(0, cols.pop(cols.index(34)))\n",
    "data = data.loc[:, cols]\n",
    "data.columns = col_names\n",
    "\n",
    "feature_names, target_names"
   ]
  },
  {
   "cell_type": "code",
   "execution_count": 5,
   "metadata": {},
   "outputs": [
    {
     "name": "stdout",
     "output_type": "stream",
     "text": [
      "\n",
      "Dataset statistics:\n",
      "===================\n",
      "number of features:       34\n",
      "number of classes:        2\n",
      "data type:                float32\n",
      "number of train samples:  280 (pos=184, neg=96, size=0MB)\n",
      "number of test samples:   71 (pos=41, neg=30, size=0MB)\n",
      "labels                    ['g', 'b']\n"
     ]
    }
   ],
   "source": [
    "X = np.float32(data.drop(0, axis=1).values)\n",
    "y = data[0].values   # conversion to int64 for pytorch\n",
    "\n",
    "# Encode target class\n",
    "encoder = LabelEncoder()\n",
    "y = np.int64(encoder.fit_transform(y))\n",
    "target_names = list(set(encoder.inverse_transform(y)))\n",
    "\n",
    "X_train, X_test, y_train, y_test = train_test_split(X, y, test_size=0.2, \n",
    "                                                    shuffle=True, random_state=HP.SEED)\n",
    "\n",
    "dataset_statistics(X_train, y_train, X_test, y_test, target_names)"
   ]
  },
  {
   "cell_type": "code",
   "execution_count": 6,
   "metadata": {},
   "outputs": [],
   "source": [
    "pipelines =  [\n",
    "     {'ExtraTreesClassifier1': Pipeline(steps=[\n",
    "                ('scaler',     StandardScaler(copy=True, with_mean=True, with_std=True)),\n",
    "#                 ('outlier',    OutlierSampler(8.5)),\n",
    "                ('sampler',    SMOTE(ratio='auto', random_state=HP.SEED)),\n",
    "                ('classifier', ExtraTreesClassifier())\n",
    "                ])},\n",
    "     {'ExtraTreesClassifier2': Pipeline(steps=[\n",
    "#                 ('outlier',    OutlierSampler(8.5)),\n",
    "                ('sampler',    RandomOverSampler(ratio='auto', random_state=HP.SEED)),\n",
    "                ('classifier', ExtraTreesClassifier())\n",
    "                ])},\n",
    "     {'RandomForestClassifier1': Pipeline(steps=[\n",
    "                ('scaler',     StandardScaler(copy=True, with_mean=True, with_std=True)),\n",
    "#                 ('outlier',    OutlierSampler(8.5)),\n",
    "                ('sampler',    SMOTE(ratio='auto', random_state=HP.SEED)),\n",
    "                ('classifier', RandomForestClassifier())\n",
    "                ])},\n",
    "     {'RandomForestClassifier2': Pipeline(steps=[\n",
    "                ('scaler',     MinMaxScaler(copy=True)),\n",
    "#                 ('outlier',    OutlierSampler(8.5)),\n",
    "                ('sampler',    RandomOverSampler(ratio='auto', random_state=HP.SEED)),\n",
    "                ('classifier', RandomForestClassifier())\n",
    "                ])},\n",
    "     {'GradientBoostingClassifier1': Pipeline(steps=[\n",
    "                ('scaler',     MinMaxScaler(copy=True)),\n",
    "#                 ('outlier',    OutlierSampler(8.5)),\n",
    "                ('sampler',    RandomOverSampler(ratio='auto', random_state=HP.SEED)),\n",
    "                ('classifier', GradientBoostingClassifier())\n",
    "                ])},\n",
    "     {'GradientBoostingClassifier2': Pipeline(steps=[\n",
    "                ('scaler',     StandardScaler(copy=True, with_mean=True, with_std=True)),\n",
    "#                 ('outlier',    OutlierSampler(8.5)),\n",
    "                ('sampler',    SMOTE(ratio='auto', random_state=HP.SEED)),\n",
    "                ('classifier', GradientBoostingClassifier())\n",
    "                ])},\n",
    "     {'SVC1': Pipeline(steps=[\n",
    "                ('scaler',     StandardScaler(copy=True, with_mean=True, with_std=True)),\n",
    "#                 ('outlier',    OutlierSampler(8.5)),\n",
    "                ('sampler',    SMOTE(ratio='auto', random_state=HP.SEED)),\n",
    "                ('classifier', SVC())\n",
    "                ])},\n",
    "     {'SVC2': Pipeline(steps=[\n",
    "#                 ('outlier',    OutlierSampler(8.5)),\n",
    "                ('sampler',    RandomOverSampler(ratio='auto', random_state=HP.SEED)),\n",
    "                ('classifier', SVC())\n",
    "                ])},\n",
    "#      {'LogisticRegression1': Pipeline(steps=[\n",
    "#                 ('scaler',     StandardScaler(copy=True, with_mean=True, with_std=True)),\n",
    "# #                 ('outlier',    OutlierSampler(8.5)),\n",
    "#                 ('sampler',    SMOTE(ratio='auto', random_state=HP.SEED)),\n",
    "#                 ('classifier', LogisticRegression())\n",
    "#                 ])},\n",
    "#     {'LogisticRegression2': Pipeline(steps=[\n",
    "# #                 ('outlier',    OutlierSampler(8.5)),\n",
    "#                 ('sampler',    RandomOverSampler(ratio='auto', random_state=HP.SEED)),\n",
    "#                 ('classifier', LogisticRegression())\n",
    "#                 ])},\n",
    "]"
   ]
  },
  {
   "cell_type": "code",
   "execution_count": 7,
   "metadata": {},
   "outputs": [],
   "source": [
    "parameters = [\n",
    "     {'ExtraTreesClassifier1': \n",
    "      { 'classifier__n_estimators'      : [8, 16, 32] ,\n",
    "        'classifier__max_features'      : ['auto', 'sqrt', 'log2', None],\n",
    "        \"classifier__max_depth\"         : [1, 10, 20],\n",
    "        \"classifier__min_samples_split\" : [2, 4] ,\n",
    "        \"classifier__bootstrap\"         : [True, False]\n",
    "      }},\n",
    "     {'ExtraTreesClassifier2': \n",
    "      { 'classifier__n_estimators'      : [8, 16, 32] ,\n",
    "        'classifier__max_features'      : ['auto', 'sqrt', 'log2', None],\n",
    "        \"classifier__max_depth\"         : [1, 10, 20],\n",
    "        \"classifier__min_samples_split\" : [2, 4] ,\n",
    "        \"classifier__bootstrap\"         : [True, False]\n",
    "      }},\n",
    "     {'RandomForestClassifier1': \n",
    "      { 'classifier__n_estimators'      : [8, 32, 64] ,\n",
    "        \"classifier__criterion\"         : [\"gini\", \"entropy\"],\n",
    "        'classifier__max_features'      : ['auto', 'sqrt', 'log2', None],\n",
    "        \"classifier__max_depth\"         : [1, 10, 20],\n",
    "        \"classifier__min_samples_split\" : [2, 4] ,\n",
    "        \"classifier__bootstrap\"         : [True, False]\n",
    "      }},\n",
    "      {'RandomForestClassifier2': \n",
    "       { 'classifier__n_estimators'      : [8, 32, 64] ,\n",
    "        \"classifier__criterion\"         : [\"gini\", \"entropy\"],\n",
    "        'classifier__max_features'      : ['auto', 'sqrt', 'log2', None],\n",
    "        \"classifier__max_depth\"         : [1, 10, 20],\n",
    "        \"classifier__min_samples_split\" : [2, 4] ,\n",
    "        \"classifier__bootstrap\"         : [True, False]\n",
    "      }},\n",
    "     {'GradientBoostingClassifier1': \n",
    "      { 'classifier__n_estimators': [16, 32], \n",
    "        'classifier__learning_rate': [0.1, 0.05, 0.02, 0.01],\n",
    "        'classifier__max_depth': [4, 6, 8],\n",
    "        'classifier__min_samples_leaf': [20, 50,100,150],\n",
    "        'classifier__max_features': [1.0, 0.3, 0.1]        \n",
    "      }},\n",
    "     {'GradientBoostingClassifier2': \n",
    "      { 'classifier__n_estimators': [16, 32], \n",
    "        'classifier__learning_rate': [0.1, 0.05, 0.02, 0.01],\n",
    "        'classifier__max_depth': [4, 6, 8],\n",
    "        'classifier__min_samples_leaf': [20, 50,100,150],\n",
    "        'classifier__max_features': [1.0, 0.3, 0.1]        \n",
    "      }},\n",
    "    {'SVC1': [\n",
    "        {'classifier__kernel': ['rbf'], \n",
    "         'classifier__gamma': [1e-3, 1e-4],\n",
    "         'classifier__C': [0.1, 1, 10, 100, 1000]},\n",
    "        {'classifier__kernel': ['linear'], \n",
    "         'classifier__C': [0.1, 1, 10, 100, 1000]}\n",
    "    ]},\n",
    "    {'SVC2': [\n",
    "        {'classifier__kernel': ['rbf'], \n",
    "         'classifier__gamma': [1e-3, 1e-4],\n",
    "         'classifier__C': [0.1, 1, 10, 100, 1000]},\n",
    "        {'classifier__kernel': ['linear'], \n",
    "         'classifier__C': [0.1, 1, 10, 100, 1000]}\n",
    "    ]},\n",
    "#     {'LogisticRegression1': [\n",
    "#         {'classifier__solver': ['newton-cg',  'lbfgs' , 'sag' ],\n",
    "#          'classifier__C': np.logspace(-10, 10, 5),            \n",
    "#          'classifier__fit_intercept': [True, False],\n",
    "#          'classifier__max_iter' : [50, 100, 200],\n",
    "#          'classifier__intercept_scaling' : [0.5, 1.0, 1.5]\n",
    "#         },\n",
    "#         {'classifier__solver': ['liblinear'],\n",
    "#          'classifier__penalty': ['l1', 'l2'],\n",
    "#          'classifier__C': np.logspace(-10, 10, 5),            \n",
    "#          'classifier__fit_intercept': [True, False],\n",
    "#          'classifier__max_iter' : [50, 100, 200],\n",
    "#          'classifier__intercept_scaling' : [0.5, 1.0, 1.5]\n",
    "#         }   \n",
    "#     ]},\n",
    "#     {'LogisticRegression2': [\n",
    "#         {'classifier__solver': ['newton-cg',  'lbfgs' , 'sag' ],\n",
    "#          'classifier__C': np.logspace(-10, 10, 5),            \n",
    "#          'classifier__fit_intercept': [True, False],\n",
    "#          'classifier__max_iter' : [50, 100, 200],\n",
    "#          'classifier__intercept_scaling' : [0.5, 1.0, 1.5]\n",
    "#         },\n",
    "#         {'classifier__solver': ['liblinear'],\n",
    "#          'classifier__penalty': ['l1', 'l2'],\n",
    "#          'classifier__C': np.logspace(-10, 10, 5),            \n",
    "#          'classifier__fit_intercept': [True, False],\n",
    "#          'classifier__max_iter' : [50, 100, 200],\n",
    "#          'classifier__intercept_scaling' : [0.5, 1.0, 1.5]\n",
    "#         }      \n",
    "#    ]}\n",
    "]\n",
    "\n",
    "scoring = 'f1'"
   ]
  },
  {
   "cell_type": "code",
   "execution_count": 8,
   "metadata": {},
   "outputs": [
    {
     "name": "stderr",
     "output_type": "stream",
     "text": [
      "100%|██████████| 3/3 [02:15<00:00, 45.06s/it]\n"
     ]
    }
   ],
   "source": [
    "NUM_TRIALS = 3\n",
    "\n",
    "trial_scores_columns = ['name', 'best_score', 'best_parameters', 'pipeline',\n",
    "                        'trial', 'score_mean', 'score_std', 'score_min', 'score_max']\n",
    "trial_scores = pd.DataFrame(columns=trial_scores_columns)\n",
    "for trial in tqdm(range(NUM_TRIALS)):\n",
    "    \n",
    "    model_select_columns = ['trail', 'idx', 'name', 'best_score', 'best_parameters', 'pipeline']\n",
    "    model_select = pd.DataFrame(columns=model_select_columns)\n",
    "    for idx, (pip, params) in enumerate(zip(pipelines, parameters)):\n",
    "        pipeline_name, pipeline = list(pip.items())[0]\n",
    "        _, pipeline_parameters = list(params.items())[0]\n",
    "            \n",
    "        cv = KFold(n_splits=4, shuffle=True, random_state=trial)\n",
    "        gscv = GridSearchCV(estimator=pipeline, param_grid=pipeline_parameters, scoring=scoring, cv=cv, \n",
    "                            verbose=0, n_jobs=-1)\n",
    "        gscv.fit(X_train, y_train)\n",
    "        \n",
    "        model_select = model_select.append(pd.DataFrame([[\n",
    "            trial, idx, pipeline_name, gscv.best_score_, gscv.best_params_ , pickle.dumps(gscv.best_estimator_)\n",
    "        ]], columns=model_select_columns))\n",
    "            \n",
    "    best_trail = model_select.groupby(['name'])['best_score'].agg(['mean', 'std', 'min', 'max']).sort_values('mean', ascending=False).iloc[0]\n",
    "    best_pipeline = model_select[model_select['name'] == best_trail.name].sort_values('best_score', ascending=False).iloc[0]\n",
    "      \n",
    "    pipeline = pickle.loads(best_pipeline['pipeline'])\n",
    "    parameter = best_pipeline['best_parameters']\n",
    "                    \n",
    "    cv = KFold(n_splits=10, shuffle=True, random_state=trial).split(X_train)\n",
    "    scores = cross_validate(pipeline, X_train, y_train, cv=cv, return_train_score=True, \n",
    "                            verbose=0, n_jobs=4)['test_score']\n",
    "    \n",
    "    trial_scores = trial_scores.append(pd.DataFrame([[\n",
    "        best_pipeline['name'], best_pipeline['best_score'], parameter, pickle.dumps(pipeline),\n",
    "        trial, np.mean(scores), np.std(scores), np.min(scores), np.max(scores)\n",
    "    ]], columns=trial_scores_columns))\n",
    "    "
   ]
  },
  {
   "cell_type": "code",
   "execution_count": 9,
   "metadata": {},
   "outputs": [
    {
     "data": {
      "text/html": [
       "<div>\n",
       "<style scoped>\n",
       "    .dataframe tbody tr th:only-of-type {\n",
       "        vertical-align: middle;\n",
       "    }\n",
       "\n",
       "    .dataframe tbody tr th {\n",
       "        vertical-align: top;\n",
       "    }\n",
       "\n",
       "    .dataframe thead th {\n",
       "        text-align: right;\n",
       "    }\n",
       "</style>\n",
       "<table border=\"1\" class=\"dataframe\">\n",
       "  <thead>\n",
       "    <tr style=\"text-align: right;\">\n",
       "      <th></th>\n",
       "      <th>name</th>\n",
       "      <th>best_score</th>\n",
       "      <th>best_parameters</th>\n",
       "      <th>pipeline</th>\n",
       "      <th>trial</th>\n",
       "      <th>score_mean</th>\n",
       "      <th>score_std</th>\n",
       "      <th>score_min</th>\n",
       "      <th>score_max</th>\n",
       "    </tr>\n",
       "  </thead>\n",
       "  <tbody>\n",
       "    <tr>\n",
       "      <th>0</th>\n",
       "      <td>ExtraTreesClassifier1</td>\n",
       "      <td>0.954596</td>\n",
       "      <td>{'classifier__bootstrap': False, 'classifier__...</td>\n",
       "      <td>b'\\x80\\x03cimblearn.pipeline\\nPipeline\\nq\\x00)...</td>\n",
       "      <td>1</td>\n",
       "      <td>0.932143</td>\n",
       "      <td>0.049099</td>\n",
       "      <td>0.821429</td>\n",
       "      <td>1.000000</td>\n",
       "    </tr>\n",
       "    <tr>\n",
       "      <th>0</th>\n",
       "      <td>ExtraTreesClassifier1</td>\n",
       "      <td>0.957151</td>\n",
       "      <td>{'classifier__bootstrap': True, 'classifier__m...</td>\n",
       "      <td>b'\\x80\\x03cimblearn.pipeline\\nPipeline\\nq\\x00)...</td>\n",
       "      <td>0</td>\n",
       "      <td>0.935714</td>\n",
       "      <td>0.026726</td>\n",
       "      <td>0.892857</td>\n",
       "      <td>0.964286</td>\n",
       "    </tr>\n",
       "    <tr>\n",
       "      <th>0</th>\n",
       "      <td>RandomForestClassifier1</td>\n",
       "      <td>0.961263</td>\n",
       "      <td>{'classifier__bootstrap': False, 'classifier__...</td>\n",
       "      <td>b'\\x80\\x03cimblearn.pipeline\\nPipeline\\nq\\x00)...</td>\n",
       "      <td>2</td>\n",
       "      <td>0.935714</td>\n",
       "      <td>0.034993</td>\n",
       "      <td>0.892857</td>\n",
       "      <td>1.000000</td>\n",
       "    </tr>\n",
       "  </tbody>\n",
       "</table>\n",
       "</div>"
      ],
      "text/plain": [
       "                      name  best_score  \\\n",
       "0    ExtraTreesClassifier1    0.954596   \n",
       "0    ExtraTreesClassifier1    0.957151   \n",
       "0  RandomForestClassifier1    0.961263   \n",
       "\n",
       "                                     best_parameters  \\\n",
       "0  {'classifier__bootstrap': False, 'classifier__...   \n",
       "0  {'classifier__bootstrap': True, 'classifier__m...   \n",
       "0  {'classifier__bootstrap': False, 'classifier__...   \n",
       "\n",
       "                                            pipeline trial  score_mean  \\\n",
       "0  b'\\x80\\x03cimblearn.pipeline\\nPipeline\\nq\\x00)...     1    0.932143   \n",
       "0  b'\\x80\\x03cimblearn.pipeline\\nPipeline\\nq\\x00)...     0    0.935714   \n",
       "0  b'\\x80\\x03cimblearn.pipeline\\nPipeline\\nq\\x00)...     2    0.935714   \n",
       "\n",
       "   score_std  score_min  score_max  \n",
       "0   0.049099   0.821429   1.000000  \n",
       "0   0.026726   0.892857   0.964286  \n",
       "0   0.034993   0.892857   1.000000  "
      ]
     },
     "execution_count": 9,
     "metadata": {},
     "output_type": "execute_result"
    }
   ],
   "source": [
    "trial_scores.sort_values(\"score_mean\", ascending=True).head(100)"
   ]
  },
  {
   "cell_type": "code",
   "execution_count": 10,
   "metadata": {},
   "outputs": [
    {
     "data": {
      "text/plain": [
       "name                                                ExtraTreesClassifier1\n",
       "best_score                                                       0.954596\n",
       "best_parameters         {'classifier__bootstrap': False, 'classifier__...\n",
       "pipeline                b'\\x80\\x03cimblearn.pipeline\\nPipeline\\nq\\x00)...\n",
       "trial                                                                   1\n",
       "score_mean                                                       0.932143\n",
       "score_std                                                        0.049099\n",
       "score_min                                                        0.821429\n",
       "score_max                                                               1\n",
       "best_parameters_hash                                  5197568965041909724\n",
       "Name: 0, dtype: object"
      ]
     },
     "execution_count": 10,
     "metadata": {},
     "output_type": "execute_result"
    }
   ],
   "source": [
    "trial_scores['best_parameters_hash'] = trial_scores['best_parameters'].apply(lambda x : hash(str(x)))\n",
    "trial_selected = trial_scores.groupby(['name', 'best_parameters_hash'])['score_mean'].agg(['count']).sort_values('count', ascending=False).iloc[0]\n",
    "df_tmp = trial_scores[(trial_scores['name'].str.contains(trial_selected.name[0]))]\n",
    "trial_clf = df_tmp[(df_tmp['best_parameters_hash'] == trial_selected.name[1])].iloc[0]\n",
    "trial_clf"
   ]
  },
  {
   "cell_type": "code",
   "execution_count": 11,
   "metadata": {},
   "outputs": [
    {
     "data": {
      "text/plain": [
       "StandardScaler(copy=True, with_mean=True, with_std=True)"
      ]
     },
     "metadata": {},
     "output_type": "display_data"
    },
    {
     "data": {
      "text/plain": [
       "SMOTE(k=None, k_neighbors=5, kind='regular', m=None, m_neighbors=10, n_jobs=1,\n",
       "   out_step=0.5, random_state=0, ratio='auto', svm_estimator=None)"
      ]
     },
     "metadata": {},
     "output_type": "display_data"
    },
    {
     "data": {
      "text/plain": [
       "ExtraTreesClassifier(bootstrap=False, class_weight=None, criterion='gini',\n",
       "           max_depth=10, max_features='auto', max_leaf_nodes=None,\n",
       "           min_impurity_decrease=0.0, min_impurity_split=None,\n",
       "           min_samples_leaf=1, min_samples_split=2,\n",
       "           min_weight_fraction_leaf=0.0, n_estimators=16, n_jobs=1,\n",
       "           oob_score=False, random_state=None, verbose=0, warm_start=False)"
      ]
     },
     "metadata": {},
     "output_type": "display_data"
    },
    {
     "data": {
      "text/plain": [
       "{'classifier__bootstrap': False,\n",
       " 'classifier__max_depth': 10,\n",
       " 'classifier__max_features': 'auto',\n",
       " 'classifier__min_samples_split': 2,\n",
       " 'classifier__n_estimators': 16}"
      ]
     },
     "execution_count": 11,
     "metadata": {},
     "output_type": "execute_result"
    }
   ],
   "source": [
    "pipeline = pickle.loads(trial_clf['pipeline'])\n",
    "params = trial_clf['best_parameters']\n",
    "\n",
    "for pip_name in pipeline.named_steps:\n",
    "    display(pipeline.named_steps[pip_name])\n",
    "    \n",
    "params"
   ]
  },
  {
   "cell_type": "code",
   "execution_count": 14,
   "metadata": {},
   "outputs": [
    {
     "name": "stdout",
     "output_type": "stream",
     "text": [
      "Trainings score: 0.9957860940680664 0.0014730668759569115\n",
      "Validation score: 0.9545138090463221 0.02316505425351266\n"
     ]
    },
    {
     "data": {
      "image/png": "[encoded data removed]",
      "text/plain": [
       "<matplotlib.figure.Figure at 0x10d2a8eb8>"
      ]
     },
     "metadata": {},
     "output_type": "display_data"
    }
   ],
   "source": [
    "# Cross-validate to train best model \n",
    "cv = KFold(n_splits=10, shuffle=True, random_state=HP.SEED).split(X_train)\n",
    "scores = cross_validate(pipeline, X_train, y_train, cv=cv, scoring=scoring, return_train_score=True, \n",
    "                        verbose=0, n_jobs=-1)\n",
    "\n",
    "print(\"Trainings score:\", np.mean(scores['train_score']), np.std(scores['train_score']))\n",
    "print(\"Validation score:\", np.mean(scores['test_score']), np.std(scores['test_score']))\n",
    "plot_cross_validation_scores(scores, figsize=(12, 8))"
   ]
  },
  {
   "cell_type": "code",
   "execution_count": 15,
   "metadata": {},
   "outputs": [
    {
     "name": "stdout",
     "output_type": "stream",
     "text": [
      "Confusion Matrix\n",
      " [[29  1]\n",
      " [ 2 39]]\n",
      "Accuracy  0.9577464788732394\n",
      "Recall    0.9512195121951219\n",
      "Precision 0.975\n",
      "F1        0.9629629629629629\n",
      "ROC AUC   0.9589430894308943\n"
     ]
    }
   ],
   "source": [
    "# http://www.ritchieng.com/machine-learning-evaluate-classification-model/\n",
    "# https://github.com/justmarkham/DAT8/blob/master/other/model_evaluation_comparison.md\\\n",
    "# Accuracy of a model that simply counts, i.e. looks at the prior distribution\n",
    "\n",
    "y_pred = pipeline.predict(X_test)\n",
    "try:\n",
    "    y_prob = pipeline.predict_proba(X_test)\n",
    "except:\n",
    "    pass\n",
    "\n",
    "print('Confusion Matrix\\n', metrics.confusion_matrix(y_test, y_pred))  # Confusion Matrix\n",
    "print('Accuracy ', metrics.accuracy_score(y_test, y_pred))            # Accuracy (TP + TN) / float(TP + TN + FP + FN)\n",
    "print('Recall   ', metrics.recall_score(y_test, y_pred))                # Recall (Sensitivity)   TP / float(FN + TP)\n",
    "print('Precision', metrics.precision_score(y_test, y_pred))     \n",
    "print('F1       ', metrics.f1_score(y_test, y_pred))     \n",
    "print('ROC AUC  ', metrics.roc_auc_score(y_test, y_pred))     "
   ]
  },
  {
   "cell_type": "code",
   "execution_count": 16,
   "metadata": {},
   "outputs": [
    {
     "name": "stdout",
     "output_type": "stream",
     "text": [
      "Test accuracy score: 0.9571428571428573 0.06546536707079774\n"
     ]
    }
   ],
   "source": [
    "#  Cross-validate score on test set\n",
    "cv = KFold(n_splits=10, shuffle=True, random_state=HP.SEED).split(X_test)\n",
    "scores = cross_val_score(pipeline, X_test, y_test, cv=cv, scoring='accuracy', verbose=0, n_jobs=-1)\n",
    "\n",
    "print(\"Test accuracy score:\", np.mean(scores), np.std(scores))"
   ]
  },
  {
   "cell_type": "code",
   "execution_count": null,
   "metadata": {},
   "outputs": [],
   "source": []
  }
 ],
 "metadata": {
  "kernelspec": {
   "display_name": "Python 3",
   "language": "python",
   "name": "python3"
  },
  "language_info": {
   "codemirror_mode": {
    "name": "ipython",
    "version": 3
   },
   "file_extension": ".py",
   "mimetype": "text/x-python",
   "name": "python",
   "nbconvert_exporter": "python",
   "pygments_lexer": "ipython3",
   "version": "3.6.4"
  }
 },
 "nbformat": 4,
 "nbformat_minor": 2
}
